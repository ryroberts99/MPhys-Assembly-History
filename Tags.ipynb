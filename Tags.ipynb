{
 "cells": [
  {
   "cell_type": "markdown",
   "id": "0fd7afa6",
   "metadata": {},
   "source": [
    "# Tags\n",
    "### The 'tag' values are stored here, which are the names of the necessary folders for loading data."
   ]
  },
  {
   "cell_type": "code",
   "execution_count": 2,
   "id": "ab8b4643",
   "metadata": {},
   "outputs": [],
   "source": [
    "import os"
   ]
  },
  {
   "cell_type": "code",
   "execution_count": 4,
   "id": "a4fc2aca",
   "metadata": {},
   "outputs": [],
   "source": [
    "tags = (\"000_z020p000\", \"001_z015p132\", \"002_z009p993\",\n",
    "        \"003_z008p988\", \"004_z008p075\", \"005_z007p050\",\n",
    "        \"006_z005p971\", \"007_z005p487\", \"008_z005p037\",\n",
    "        \"009_z004p485\", \"010_z003p984\", \"011_z003p528\",\n",
    "        \"012_z003p017\", \"013_z002p478\", \"014_z002p237\",\n",
    "        \"015_z002p012\", \"016_z001p737\", \"017_z001p487\",\n",
    "        \"018_z001p259\", \"019_z001p004\", \"020_z000p865\",\n",
    "        \"021_z000p736\", \"022_z000p615\", \"023_z000p503\",\n",
    "        \"024_z000p366\", \"025_z000p271\", \"026_z000p183\",\n",
    "        \"027_z000p101\", \"028_z000p000\")\n",
    "\n",
    "data_location = os.path.join('E:\\\\Project Files', 'gm_for_mphys')"
   ]
  }
 ],
 "metadata": {
  "kernelspec": {
   "display_name": "Python 3 (ipykernel)",
   "language": "python",
   "name": "python3"
  },
  "language_info": {
   "codemirror_mode": {
    "name": "ipython",
    "version": 3
   },
   "file_extension": ".py",
   "mimetype": "text/x-python",
   "name": "python",
   "nbconvert_exporter": "python",
   "pygments_lexer": "ipython3",
   "version": "3.9.7"
  }
 },
 "nbformat": 4,
 "nbformat_minor": 5
}
